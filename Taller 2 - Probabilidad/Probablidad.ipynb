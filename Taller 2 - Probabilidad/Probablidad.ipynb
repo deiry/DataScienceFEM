{
 "cells": [
  {
   "cell_type": "markdown",
   "metadata": {
    "colab_type": "text",
    "id": "tg21v6i97Gbi"
   },
   "source": [
    "#**Probability**\n",
    "\n",
    "*Chance of an event occurring.*\n",
    "\n",
    "Probability shows how possible it is that an event occurs.\n",
    "It is a measure of the frequency of an event, that is, how much happens the event that satisfies a condition.\n",
    "\n",
    "*Number of ways of achieving a condition / the total number of possible outcomes*\n",
    "\n",
    "\n",
    "\n",
    "\n",
    "\n",
    "\n"
   ]
  },
  {
   "cell_type": "markdown",
   "metadata": {
    "colab_type": "text",
    "id": "sRG1VJQK-3LE"
   },
   "source": [
    "##### **Ex.**"
   ]
  },
  {
   "cell_type": "code",
   "execution_count": 1,
   "metadata": {
    "colab": {
     "base_uri": "https://localhost:8080/",
     "height": 33
    },
    "colab_type": "code",
    "id": "tnIBZeen-1Zq",
    "outputId": "321129dd-21cc-4d1f-e385-36f4e50cacd3"
   },
   "outputs": [
    {
     "data": {
      "text/plain": [
       "0.5"
      ]
     },
     "execution_count": 1,
     "metadata": {},
     "output_type": "execute_result"
    }
   ],
   "source": [
    "#What is the probability for throwing a dice and getting even number?\n",
    "3/6"
   ]
  },
  {
   "cell_type": "code",
   "execution_count": 2,
   "metadata": {
    "colab": {
     "base_uri": "https://localhost:8080/",
     "height": 33
    },
    "colab_type": "code",
    "id": "XQn69ZPv6lwl",
    "outputId": "30e5dd2c-23ca-4016-932d-b607b5a7f6fb"
   },
   "outputs": [
    {
     "data": {
      "text/plain": [
       "0.5"
      ]
     },
     "execution_count": 2,
     "metadata": {},
     "output_type": "execute_result"
    }
   ],
   "source": [
    "#What is the probability of getting a head when flipping a coin?\n",
    "1/2"
   ]
  },
  {
   "cell_type": "code",
   "execution_count": 3,
   "metadata": {
    "colab": {
     "base_uri": "https://localhost:8080/",
     "height": 33
    },
    "colab_type": "code",
    "id": "UtYAuiGyCwEx",
    "outputId": "f430e7c7-47aa-46ed-e86c-31c0ce9ca52e"
   },
   "outputs": [
    {
     "data": {
      "text/plain": [
       "0.0"
      ]
     },
     "execution_count": 3,
     "metadata": {},
     "output_type": "execute_result"
    }
   ],
   "source": [
    "#What is the probability for throwing a dice and getting a 7?\n",
    "0/6"
   ]
  },
  {
   "cell_type": "code",
   "execution_count": 4,
   "metadata": {
    "colab": {
     "base_uri": "https://localhost:8080/",
     "height": 33
    },
    "colab_type": "code",
    "id": "jibsPEKHC28y",
    "outputId": "39a75faf-c186-4b60-be26-d191fe84c000"
   },
   "outputs": [
    {
     "data": {
      "text/plain": [
       "0.3333333333333333"
      ]
     },
     "execution_count": 4,
     "metadata": {},
     "output_type": "execute_result"
    }
   ],
   "source": [
    "#What is the probability for throwing a dice and getting a 3  or 6?\n",
    "2/6"
   ]
  },
  {
   "cell_type": "code",
   "execution_count": 5,
   "metadata": {
    "colab": {
     "base_uri": "https://localhost:8080/",
     "height": 33
    },
    "colab_type": "code",
    "id": "SO0G6v37C9bQ",
    "outputId": "2f13480f-3163-4dda-80de-ee3f02682953"
   },
   "outputs": [
    {
     "data": {
      "text/plain": [
       "0.0"
      ]
     },
     "execution_count": 5,
     "metadata": {},
     "output_type": "execute_result"
    }
   ],
   "source": [
    "#What is the probability for throwing a dice and getting a 3 and 6?\n",
    "0/6"
   ]
  },
  {
   "cell_type": "markdown",
   "metadata": {
    "colab_type": "text",
    "id": "71gnripSDypJ"
   },
   "source": [
    "### Predictions\n",
    "\n",
    "**KAHOOT**\n",
    "![](https://)\n",
    "\n"
   ]
  },
  {
   "cell_type": "code",
   "execution_count": 0,
   "metadata": {
    "colab": {
     "base_uri": "https://localhost:8080/",
     "height": 33
    },
    "colab_type": "code",
    "id": "14YpK9SlFaie",
    "outputId": "d0bf58a0-e423-45d1-978e-b5274a122995"
   },
   "outputs": [
    {
     "data": {
      "text/plain": [
       "0.5714285714285714"
      ]
     },
     "execution_count": 9,
     "metadata": {
      "tags": []
     },
     "output_type": "execute_result"
    }
   ],
   "source": [
    "#What is the probability of getting an elephant?\n",
    "#If I spin the wheel 1 time\n",
    "4/7"
   ]
  },
  {
   "cell_type": "code",
   "execution_count": 0,
   "metadata": {
    "colab": {
     "base_uri": "https://localhost:8080/",
     "height": 33
    },
    "colab_type": "code",
    "id": "ebru3wYsFnjT",
    "outputId": "16e38b7a-1652-49e6-de1c-5b84488bf3e9"
   },
   "outputs": [
    {
     "data": {
      "text/plain": [
       "120.0"
      ]
     },
     "execution_count": 11,
     "metadata": {
      "tags": []
     },
     "output_type": "execute_result"
    }
   ],
   "source": [
    "#Predict the number of times I get an elephant if I spin the wheel 210 times\n",
    "210 * (4/7)\n"
   ]
  },
  {
   "cell_type": "markdown",
   "metadata": {
    "colab_type": "text",
    "id": "FW8uH_yyGKJf"
   },
   "source": [
    "### Which probability is greater?\n",
    "\n",
    "Throwing a dice and getting a number less or equal than 2 or a  number greater or equal than 3\n",
    "\n",
    "P( x<=2 )     vs     P( x>=3 )"
   ]
  },
  {
   "cell_type": "code",
   "execution_count": 0,
   "metadata": {
    "colab": {
     "base_uri": "https://localhost:8080/",
     "height": 33
    },
    "colab_type": "code",
    "id": "4-aTBzKGGGmR",
    "outputId": "5cb82ee6-f2b2-4397-fd80-d3e27ca9efc7"
   },
   "outputs": [
    {
     "data": {
      "text/plain": [
       "0.3333333333333333"
      ]
     },
     "execution_count": 13,
     "metadata": {
      "tags": []
     },
     "output_type": "execute_result"
    }
   ],
   "source": [
    "#getting a number less than 2\n",
    "2/6"
   ]
  },
  {
   "cell_type": "code",
   "execution_count": 0,
   "metadata": {
    "colab": {
     "base_uri": "https://localhost:8080/",
     "height": 33
    },
    "colab_type": "code",
    "id": "b1Z2lbkGG_5V",
    "outputId": "5b7886bc-66e9-471b-a70e-6a122911d3e7"
   },
   "outputs": [
    {
     "data": {
      "text/plain": [
       "0.6666666666666666"
      ]
     },
     "execution_count": 14,
     "metadata": {
      "tags": []
     },
     "output_type": "execute_result"
    }
   ],
   "source": [
    "#getting a number greater than 3\n",
    "4/6"
   ]
  },
  {
   "cell_type": "markdown",
   "metadata": {
    "colab_type": "text",
    "id": "UOjva0HJHJ5L"
   },
   "source": [
    "**DOUBLE**\n"
   ]
  },
  {
   "cell_type": "markdown",
   "metadata": {
    "colab_type": "text",
    "id": "pXWU4YFlHKbC"
   },
   "source": [
    "### **Permutations & Combinations**\n",
    "\n",
    "There are two ways to sort or combine results of dependent events. \n",
    "\n",
    "- **Permutations** are groupings in which the order of objects matters. \n",
    "- **Combinations** are groupings in which the content matters but the order does not.\n",
    "\n",
    "\n",
    "*It helps a lot to use trees*"
   ]
  },
  {
   "cell_type": "markdown",
   "metadata": {
    "colab_type": "text",
    "id": "EUmHuBRiYkf0"
   },
   "source": [
    "**Permutations**"
   ]
  },
  {
   "cell_type": "code",
   "execution_count": 0,
   "metadata": {
    "colab": {
     "base_uri": "https://localhost:8080/",
     "height": 33
    },
    "colab_type": "code",
    "id": "2YM9AccPQBWd",
    "outputId": "6f9858e0-bd3e-4ea8-f1b4-a69b596319ca"
   },
   "outputs": [
    {
     "data": {
      "text/plain": [
       "12"
      ]
     },
     "execution_count": 44,
     "metadata": {
      "tags": []
     },
     "output_type": "execute_result"
    }
   ],
   "source": [
    "#If I go to a florist that has 4 types of flowers (Roses, tulip, sunflower, lilies)\n",
    "#and 3 colors of pots (brown, yellow, green). \n",
    "#How many combinations of flowers and pots can I go out with?\n",
    "\n",
    "3 * 4"
   ]
  },
  {
   "cell_type": "code",
   "execution_count": 0,
   "metadata": {
    "colab": {},
    "colab_type": "code",
    "id": "SulwbfsmRZoi"
   },
   "outputs": [],
   "source": [
    "#If I have two engine options (4 cylinders and 6 cylinders) \n",
    "#and 4 color options (Red, Blue, Green, White) \n",
    "#What is the probability of having a white car with 6 cylinders?"
   ]
  },
  {
   "cell_type": "code",
   "execution_count": 0,
   "metadata": {
    "colab": {
     "base_uri": "https://localhost:8080/",
     "height": 33
    },
    "colab_type": "code",
    "id": "7GXBXnc0UQab",
    "outputId": "39635194-5fa9-4dfb-8f77-2f83b1332f16"
   },
   "outputs": [
    {
     "data": {
      "text/plain": [
       "120"
      ]
     },
     "execution_count": 45,
     "metadata": {
      "tags": []
     },
     "output_type": "execute_result"
    }
   ],
   "source": [
    "#How many ways can I organize 5 people in 5 places?\n",
    "#Orden is important\n",
    "# A, B, C, D, E\n",
    "\n",
    "#Places\n",
    "#1 2 3 4 5\n",
    " 5*4*3*2*1\n",
    "\n",
    "#5!"
   ]
  },
  {
   "cell_type": "markdown",
   "metadata": {
    "colab_type": "text",
    "id": "eBVC75FzX9VN"
   },
   "source": [
    "*Formula*\n",
    "\n",
    "P(n,k) = n! / (n-k)!\n",
    "\n",
    "- n = how many things I have\n",
    "- k = how many ways or places I have to sort or combine my things"
   ]
  },
  {
   "cell_type": "code",
   "execution_count": 0,
   "metadata": {
    "colab": {},
    "colab_type": "code",
    "id": "W-Z7DkSNWz1A"
   },
   "outputs": [],
   "source": [
    "def facto(n):\n",
    "  factorial = 1\n",
    "  if int(n) >= 1:\n",
    "    for i in range (1,int(n)+1):\n",
    "      factorial = factorial * i\n",
    "  return(int(factorial))"
   ]
  },
  {
   "cell_type": "code",
   "execution_count": 0,
   "metadata": {
    "colab": {
     "base_uri": "https://localhost:8080/",
     "height": 33
    },
    "colab_type": "code",
    "id": "HlhAQbuvW_la",
    "outputId": "2f5d9b53-c7b4-4678-cd6f-836c34aebf0f"
   },
   "outputs": [
    {
     "name": "stdout",
     "output_type": "stream",
     "text": [
      "120\n"
     ]
    }
   ],
   "source": [
    "facto(5)"
   ]
  },
  {
   "cell_type": "code",
   "execution_count": 0,
   "metadata": {
    "colab": {
     "base_uri": "https://localhost:8080/",
     "height": 33
    },
    "colab_type": "code",
    "id": "f9ucNnxnXdUW",
    "outputId": "ec65ee50-1ed7-4379-9da5-845b63a8fc64"
   },
   "outputs": [
    {
     "data": {
      "text/plain": [
       "60.0"
      ]
     },
     "execution_count": 68,
     "metadata": {
      "tags": []
     },
     "output_type": "execute_result"
    }
   ],
   "source": [
    "#What if I only have 3 places?\n",
    "#How many ways can I organize 5 people in 3 places?\n",
    "#Orden is important\n",
    "facto(5)/facto((5-3))"
   ]
  },
  {
   "cell_type": "code",
   "execution_count": 0,
   "metadata": {
    "colab": {},
    "colab_type": "code",
    "id": "Uw_BVorFXlxV"
   },
   "outputs": [],
   "source": [
    "#How many 3-letter words can I make? (The alphabet has 26 letters)"
   ]
  },
  {
   "cell_type": "code",
   "execution_count": 0,
   "metadata": {
    "colab": {},
    "colab_type": "code",
    "id": "K4OofpWfa6O1"
   },
   "outputs": [],
   "source": [
    "#How many codes with 4 colors can I do without repeating them?"
   ]
  },
  {
   "cell_type": "code",
   "execution_count": 0,
   "metadata": {
    "colab": {},
    "colab_type": "code",
    "id": "v7r6flVTbBOU"
   },
   "outputs": [],
   "source": [
    "#If I have a group of 9 people, \n",
    "#how many different ways can I choose the board of directors \n",
    "#(President - Vice President - Secretary)"
   ]
  },
  {
   "cell_type": "markdown",
   "metadata": {
    "colab_type": "text",
    "id": "z6zsHJ4bcxzl"
   },
   "source": [
    "**Combinations**\n",
    "\n",
    "*Formula*\n",
    "\n",
    "- C(n,k) = P(n,k) / k!\n",
    "- C(n,k) = (n! / (n-k)!) / k!\n",
    "- **C(n,k) = n! / k! * (n-k)!**\n",
    "\n",
    "\n",
    "\n",
    "\n",
    "- n = how many things I have\n",
    "- k = how many ways or places I have to sort or combine my things"
   ]
  },
  {
   "cell_type": "markdown",
   "metadata": {
    "colab_type": "text",
    "id": "EELC0u1SqngZ"
   },
   "source": [
    "**Say Hello**"
   ]
  },
  {
   "cell_type": "code",
   "execution_count": 0,
   "metadata": {
    "colab": {
     "base_uri": "https://localhost:8080/",
     "height": 33
    },
    "colab_type": "code",
    "id": "ubnslp0Rct36",
    "outputId": "e0b81799-6d9a-4654-9968-1dc531cb4fa5"
   },
   "outputs": [
    {
     "data": {
      "text/plain": [
       "12"
      ]
     },
     "execution_count": 74,
     "metadata": {
      "tags": []
     },
     "output_type": "execute_result"
    }
   ],
   "source": [
    "#In how many combinations 4 people say hello to each others when order matters\n",
    "# A, B, C, D\n",
    "\n",
    "#Places\n",
    "#1 2 \n",
    " 4*3\n",
    "\n",
    "#5!"
   ]
  },
  {
   "cell_type": "code",
   "execution_count": 0,
   "metadata": {
    "colab": {
     "base_uri": "https://localhost:8080/",
     "height": 33
    },
    "colab_type": "code",
    "id": "lv5CoRa8obY5",
    "outputId": "9bce58be-c30e-4c6a-d4e0-c288b47825e9"
   },
   "outputs": [
    {
     "data": {
      "text/plain": [
       "6.0"
      ]
     },
     "execution_count": 75,
     "metadata": {
      "tags": []
     },
     "output_type": "execute_result"
    }
   ],
   "source": [
    "#In how many combinations 4 people say hello to each others when order doesn't matter\n",
    "# total permutations / ways to sort 3 people\n",
    "facto(4)/(facto(2)*facto((4-2)))"
   ]
  },
  {
   "cell_type": "markdown",
   "metadata": {
    "colab_type": "text",
    "id": "PPsLaHtcLC_i"
   },
   "source": [
    "\n",
    "Python provide direct methods to find permutations and combinations of a sequence. These methods are present in itertools package.\n",
    "\n"
   ]
  },
  {
   "cell_type": "code",
   "execution_count": 0,
   "metadata": {
    "colab": {},
    "colab_type": "code",
    "id": "NhnCTkCiILFW"
   },
   "outputs": [],
   "source": [
    "from itertools import permutations \n",
    "from itertools import combinations \n"
   ]
  },
  {
   "cell_type": "code",
   "execution_count": 0,
   "metadata": {
    "colab": {
     "base_uri": "https://localhost:8080/",
     "height": 214
    },
    "colab_type": "code",
    "id": "kqdFsmbtKXtm",
    "outputId": "a4e13a59-c047-46b4-ed5f-c9d2baaa3c79"
   },
   "outputs": [
    {
     "name": "stdout",
     "output_type": "stream",
     "text": [
      "('A', 'B')\n",
      "('A', 'C')\n",
      "('A', 'D')\n",
      "('B', 'A')\n",
      "('B', 'C')\n",
      "('B', 'D')\n",
      "('C', 'A')\n",
      "('C', 'B')\n",
      "('C', 'D')\n",
      "('D', 'A')\n",
      "('D', 'B')\n",
      "('D', 'C')\n"
     ]
    }
   ],
   "source": [
    "perm2 = permutations('ABCD', 2)\n",
    "for i in list(perm2): \n",
    "  print(i)"
   ]
  },
  {
   "cell_type": "code",
   "execution_count": 0,
   "metadata": {
    "colab": {
     "base_uri": "https://localhost:8080/",
     "height": 115
    },
    "colab_type": "code",
    "id": "FErk-5q-MXX1",
    "outputId": "c539867f-c1e0-42f5-ea94-bae0892f0458"
   },
   "outputs": [
    {
     "name": "stdout",
     "output_type": "stream",
     "text": [
      "('A', 'B')\n",
      "('A', 'C')\n",
      "('A', 'D')\n",
      "('B', 'C')\n",
      "('B', 'D')\n",
      "('C', 'D')\n"
     ]
    }
   ],
   "source": [
    "comb = combinations('ABCD', 2)\n",
    "for i in list(comb):\n",
    "  print(i)"
   ]
  },
  {
   "cell_type": "code",
   "execution_count": 0,
   "metadata": {
    "colab": {
     "base_uri": "https://localhost:8080/",
     "height": 33
    },
    "colab_type": "code",
    "id": "7JGMfYKOrTeS",
    "outputId": "64795c7c-880c-42cb-97d0-46684b185e82"
   },
   "outputs": [
    {
     "data": {
      "text/plain": [
       "94143280.0"
      ]
     },
     "execution_count": 78,
     "metadata": {
      "tags": []
     },
     "output_type": "execute_result"
    }
   ],
   "source": [
    "# I have 36 cards, 4 groups and 9 cards for group\n",
    "# What is the probability to get the four 'ones' in one group?\n",
    "\n",
    "# . 1.How many options do I have?\n",
    "\n",
    "facto(36) / (facto(9)*facto((36-9)))\n",
    "\n",
    "#Permutación"
   ]
  },
  {
   "cell_type": "code",
   "execution_count": 0,
   "metadata": {
    "colab": {},
    "colab_type": "code",
    "id": "lKrOCXVErUJJ"
   },
   "outputs": [],
   "source": [
    "#Continue on the board "
   ]
  },
  {
   "cell_type": "markdown",
   "metadata": {
    "colab_type": "text",
    "id": "soPmDdZYsRZH"
   },
   "source": [
    "###**Independent events**\n",
    "\n",
    "They have no relationship between them -> Gambler's fallacy"
   ]
  },
  {
   "cell_type": "code",
   "execution_count": 0,
   "metadata": {
    "colab": {
     "base_uri": "https://localhost:8080/",
     "height": 33
    },
    "colab_type": "code",
    "id": "EABUDXp_soAw",
    "outputId": "7ee1e053-dde1-4e33-eb73-c7e2bf735e05"
   },
   "outputs": [
    {
     "data": {
      "text/plain": [
       "0.25"
      ]
     },
     "execution_count": 79,
     "metadata": {
      "tags": []
     },
     "output_type": "execute_result"
    }
   ],
   "source": [
    "#If you flip a coin twice,\n",
    "#what is the probability of having a face in both attempts.\n",
    "\n",
    "#P(c c) = P(c)*P(c)\n",
    "          0.5 * 0.5"
   ]
  },
  {
   "cell_type": "code",
   "execution_count": 0,
   "metadata": {
    "colab": {
     "base_uri": "https://localhost:8080/",
     "height": 33
    },
    "colab_type": "code",
    "id": "gD0ScPHYs_x_",
    "outputId": "57a63f72-19c9-4378-df4a-80bc551cb997"
   },
   "outputs": [
    {
     "data": {
      "text/plain": [
       "0.125"
      ]
     },
     "execution_count": 80,
     "metadata": {
      "tags": []
     },
     "output_type": "execute_result"
    }
   ],
   "source": [
    "#If you flip a coin three times, \n",
    "#what is the probability of having a seal, face and seal (in this order).\n",
    "\n",
    "#P(s c s) = P(s) * P(c) * P(s)\n",
    "             0.5 * 0.5 * 0.5"
   ]
  },
  {
   "cell_type": "code",
   "execution_count": 0,
   "metadata": {
    "colab": {
     "base_uri": "https://localhost:8080/",
     "height": 115
    },
    "colab_type": "code",
    "id": "hGdcZeKLtVpi",
    "outputId": "a5086667-6846-4c6d-fe5a-680f7c6a2cea"
   },
   "outputs": [
    {
     "name": "stdout",
     "output_type": "stream",
     "text": [
      "('C', 'S', 'C')\n",
      "('C', 'C', 'S')\n",
      "('S', 'C', 'C')\n",
      "('S', 'C', 'C')\n",
      "('C', 'C', 'S')\n",
      "('C', 'S', 'C')\n"
     ]
    }
   ],
   "source": [
    "perm3 = permutations('CSC', 3)\n",
    "\n",
    "for i in list(perm3): \n",
    "  print(i)\n",
    "\n",
    "#Falta SSS"
   ]
  },
  {
   "cell_type": "code",
   "execution_count": 0,
   "metadata": {
    "colab": {},
    "colab_type": "code",
    "id": "eNQ3xp1ytzf-"
   },
   "outputs": [],
   "source": [
    "#If I have an test, \n",
    "#the first question has 4 options and the second 3, all only answer, \n",
    "#what is the probability of win the test if I answer randomly"
   ]
  },
  {
   "cell_type": "code",
   "execution_count": 0,
   "metadata": {
    "colab": {},
    "colab_type": "code",
    "id": "fG9wfMT7vJFj"
   },
   "outputs": [],
   "source": [
    "#I win if I take 2 green balls out of the bag. \n",
    "#If I have 3 green and 2 red balls, \n",
    "#what is the probability of winning, if I do not put the one I get back in the bag"
   ]
  },
  {
   "cell_type": "markdown",
   "metadata": {
    "colab_type": "text",
    "id": "CMKu01eRvqxz"
   },
   "source": [
    "###**Dependent events**\n",
    "\n",
    "They have relationship between them"
   ]
  },
  {
   "cell_type": "code",
   "execution_count": 0,
   "metadata": {
    "colab": {},
    "colab_type": "code",
    "id": "TIA68pnovyy-"
   },
   "outputs": [],
   "source": [
    "#I have 8 coins, 3 trick and 5 normal coins\n",
    "#The probability of get a face in a trick coin is 60%\n",
    "#If I choose one and flip it twice\n",
    "#What is the probability of get face in the two flips\n",
    "\n",
    "# .1. P(cc|normal)"
   ]
  },
  {
   "cell_type": "code",
   "execution_count": 0,
   "metadata": {
    "colab": {},
    "colab_type": "code",
    "id": "WgLJ7ofoxLhI"
   },
   "outputs": [],
   "source": [
    "# 2.P(cc|trick)"
   ]
  },
  {
   "cell_type": "code",
   "execution_count": 0,
   "metadata": {
    "colab": {},
    "colab_type": "code",
    "id": "oOCPz2kuxPLQ"
   },
   "outputs": [],
   "source": [
    "# PT = P(cc|normal)+P(cc|trick)"
   ]
  },
  {
   "cell_type": "markdown",
   "metadata": {
    "colab_type": "text",
    "id": "u1lR8wXMxrn4"
   },
   "source": [
    "**Venn Diagram**\n",
    "\n",
    "on board"
   ]
  },
  {
   "cell_type": "code",
   "execution_count": 0,
   "metadata": {
    "colab": {},
    "colab_type": "code",
    "id": "czZvlC8CxUfM"
   },
   "outputs": [],
   "source": [
    "#4 groups of cards and 13 cards for group\n",
    "# 1 2 3 4 5 6 7 8 9 10 J Q K\n",
    "# 52 cards in total\n",
    "\n",
    "# P(J)"
   ]
  },
  {
   "cell_type": "code",
   "execution_count": 0,
   "metadata": {
    "colab": {},
    "colab_type": "code",
    "id": "CVqUqp-rxmUu"
   },
   "outputs": [],
   "source": [
    "# P( J y corazón)\n",
    "#Intersection"
   ]
  },
  {
   "cell_type": "code",
   "execution_count": 0,
   "metadata": {
    "colab": {},
    "colab_type": "code",
    "id": "o5YqNqjax9Nr"
   },
   "outputs": [],
   "source": [
    "# P( J o corazón) = P (J) + P(corazón) - P (Jcorazón) // Se le resta para no contar dos veces\n",
    "#out of intersection"
   ]
  },
  {
   "cell_type": "code",
   "execution_count": 0,
   "metadata": {
    "colab": {},
    "colab_type": "code",
    "id": "YUXqYc-CyDhK"
   },
   "outputs": [],
   "source": [
    "# I Have 8 green cubes, 9 green balls, 5 yellow cubes and 7 yellow balls\n",
    "# P(cube)"
   ]
  },
  {
   "cell_type": "code",
   "execution_count": 0,
   "metadata": {
    "colab": {},
    "colab_type": "code",
    "id": "TS6kMbIDySe9"
   },
   "outputs": [],
   "source": [
    "# P (cube yellow)"
   ]
  }
 ],
 "metadata": {
  "colab": {
   "collapsed_sections": [
    "sRG1VJQK-3LE",
    "FW8uH_yyGKJf"
   ],
   "name": "Probablidad.ipynb",
   "provenance": []
  },
  "kernelspec": {
   "display_name": "Python 3",
   "language": "python",
   "name": "python3"
  },
  "language_info": {
   "codemirror_mode": {
    "name": "ipython",
    "version": 3
   },
   "file_extension": ".py",
   "mimetype": "text/x-python",
   "name": "python",
   "nbconvert_exporter": "python",
   "pygments_lexer": "ipython3",
   "version": "3.7.1"
  }
 },
 "nbformat": 4,
 "nbformat_minor": 1
}
