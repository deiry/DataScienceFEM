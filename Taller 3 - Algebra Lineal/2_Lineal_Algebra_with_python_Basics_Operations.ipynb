{
 "cells": [
  {
   "cell_type": "markdown",
   "metadata": {
    "colab_type": "text",
    "id": "view-in-github"
   },
   "source": [
    "<a href=\"https://colab.research.google.com/github/salvarezmeneses/DataScience2020/blob/master/2_Lineal_Algebra_with_python_Basics_Operations.ipynb\" target=\"_parent\"><img src=\"https://colab.research.google.com/assets/colab-badge.svg\" alt=\"Open In Colab\"/></a>"
   ]
  },
  {
   "cell_type": "markdown",
   "metadata": {
    "colab_type": "text",
    "id": "-b-HzLyF2Oq1"
   },
   "source": [
    "## Basics Operations\n",
    "Transposiciòn , Suma de matrices y Escalares.\n",
    "===============\n",
    "\n",
    "**Objetivo:**\n",
    "* El objetivo es realizar operaciones básicos.\n",
    "\n",
    "* definiremos los elementos bàsicos y su valor."
   ]
  },
  {
   "cell_type": "code",
   "execution_count": 3,
   "metadata": {
    "colab": {},
    "colab_type": "code",
    "id": "YXq6PUTe2K7W"
   },
   "outputs": [],
   "source": [
    "import numpy as np\n",
    "escalar = 5.679\n",
    "vector = np.array([3,4,5,6])\n",
    "matriz = np.array([[1,2],[3,4],[5,6]])\n",
    "tensor = np.array([[[255,255,255],[128,128,128],[80,80,80]],\n",
    "    [[100,101,102],[103,104,105],[160,170,180]],\n",
    "    [[190,200,210], [220,230,204], [255,227,238]]])"
   ]
  },
  {
   "cell_type": "markdown",
   "metadata": {
    "colab_type": "text",
    "id": "oflm1mmYFpSI"
   },
   "source": [
    "# Transposición de escalar, vector.\n",
    "\n",
    "**¿ Que es transponer ?**\n",
    "\n",
    "* Matemáticamente hablando transponer es cambiar las filas x columnas. (siempre y cuando tengan las mismas dimensiones)\n",
    "\n",
    "* si tengo una matriz de 3 x 2 , quedara de 2 x 3.\n",
    "\n",
    "* En python , escribir una transpuesta es usar la función .T\n",
    "\n",
    "* Las variables que almacenen las transpuestas se denotaran con la _t\n",
    "\n",
    "\n"
   ]
  },
  {
   "cell_type": "code",
   "execution_count": 4,
   "metadata": {
    "colab": {},
    "colab_type": "code",
    "id": "TbjngVSP4YtL"
   },
   "outputs": [
    {
     "ename": "AttributeError",
     "evalue": "'float' object has no attribute 'T'",
     "output_type": "error",
     "traceback": [
      "\u001b[0;31m---------------------------------------------------------------------------\u001b[0m",
      "\u001b[0;31mAttributeError\u001b[0m                            Traceback (most recent call last)",
      "\u001b[0;32m<ipython-input-4-c5468ce5e34d>\u001b[0m in \u001b[0;36m<module>\u001b[0;34m\u001b[0m\n\u001b[1;32m      1\u001b[0m \u001b[0;31m# Ejercicio 1: realice la transpuesta del escalar e indica al menos una conclusión.\u001b[0m\u001b[0;34m\u001b[0m\u001b[0;34m\u001b[0m\u001b[0;34m\u001b[0m\u001b[0m\n\u001b[1;32m      2\u001b[0m \u001b[0;34m\u001b[0m\u001b[0m\n\u001b[0;32m----> 3\u001b[0;31m \u001b[0mescalar_t\u001b[0m \u001b[0;34m=\u001b[0m \u001b[0mescalar\u001b[0m\u001b[0;34m.\u001b[0m\u001b[0mT\u001b[0m\u001b[0;34m\u001b[0m\u001b[0;34m\u001b[0m\u001b[0m\n\u001b[0m\u001b[1;32m      4\u001b[0m \u001b[0mprint\u001b[0m\u001b[0;34m(\u001b[0m\u001b[0mescalar_t\u001b[0m\u001b[0;34m)\u001b[0m\u001b[0;34m\u001b[0m\u001b[0;34m\u001b[0m\u001b[0m\n",
      "\u001b[0;31mAttributeError\u001b[0m: 'float' object has no attribute 'T'"
     ]
    }
   ],
   "source": [
    "# Ejercicio 1: realice la transpuesta del escalar e indica al menos una conclusión.\n",
    "\n",
    "escalar_t = escalar.T\n",
    "print(escalar_t)"
   ]
  },
  {
   "cell_type": "markdown",
   "metadata": {
    "colab_type": "text",
    "id": "BaU88h6U6CXe"
   },
   "source": [
    "**conclusion:** El resultado anterior no se ejecutara por que el escalar no tiene ni filas, ni columnas por tanto no se podrá transponer"
   ]
  },
  {
   "cell_type": "code",
   "execution_count": 25,
   "metadata": {
    "colab": {
     "base_uri": "https://localhost:8080/",
     "height": 34
    },
    "colab_type": "code",
    "id": "nMBY_HeX6PKN",
    "outputId": "c2fd71d4-1b62-42d6-dfc0-8eddb2627f43"
   },
   "outputs": [
    {
     "name": "stdout",
     "output_type": "stream",
     "text": [
      "(4,)\n",
      "\n",
      "Vector original  (4, 1)\n",
      "[[3]\n",
      " [4]\n",
      " [5]\n",
      " [6]]\n",
      "\n",
      "Vector transpuesto  (1, 4)\n",
      "[[3 4 5 6]]\n"
     ]
    }
   ],
   "source": [
    "# Ejercicio 2: realice la transpuesta del escalar e indica al menos una conclusión.\n",
    "\n",
    "vector = np.array([3,4,5,6])\n",
    "print(vector.shape)\n",
    "\n",
    "vector = np.reshape(vector, (vector.shape[0],1))\n",
    "print(\"\\nVector original \",vector.shape)\n",
    "print(vector)\n",
    "\n",
    "vector2 = vector.T\n",
    "print(\"\\nVector transpuesto \", vector2.shape)\n",
    "print(vector2)"
   ]
  },
  {
   "cell_type": "markdown",
   "metadata": {
    "colab_type": "text",
    "id": "_8ZbVMXj-qzn"
   },
   "source": [
    "**conclusion:**  El resultado anterior ejecutara el mismo Vector.\n",
    "\n",
    "\n",
    "\n"
   ]
  },
  {
   "cell_type": "markdown",
   "metadata": {
    "colab_type": "text",
    "id": "0a1BsAgWFRfm"
   },
   "source": [
    "# Transposición de matrices\n",
    "![texto alternativo](https://66.media.tumblr.com/4bba076e87a9c046323aeeaa42fcbca2/tumblr_inline_p4czceCYRv1r5w51c_1280.gifv)"
   ]
  },
  {
   "cell_type": "code",
   "execution_count": 0,
   "metadata": {
    "colab": {
     "base_uri": "https://localhost:8080/",
     "height": 85
    },
    "colab_type": "code",
    "id": "63zSxnzqBFdT",
    "outputId": "c72f5285-3720-44d1-ca41-a2425eddf582"
   },
   "outputs": [
    {
     "name": "stdout",
     "output_type": "stream",
     "text": [
      "[[1 2]\n",
      " [3 4]\n",
      " [5 6]]\n",
      "La dimensión es:  (3, 2)\n"
     ]
    }
   ],
   "source": [
    "# Matriz inicial\n",
    "matriz = np.array([[1,2],[3,4],[5,6]])\n",
    "print(matriz)\n",
    "print(\"La dimensión es: \", matriz.shape)\n"
   ]
  },
  {
   "cell_type": "code",
   "execution_count": 0,
   "metadata": {
    "colab": {
     "base_uri": "https://localhost:8080/",
     "height": 68
    },
    "colab_type": "code",
    "id": "30Qq-meMGltc",
    "outputId": "60dec55a-df9e-4678-d821-f4291f77920a"
   },
   "outputs": [
    {
     "name": "stdout",
     "output_type": "stream",
     "text": [
      "[[1 3 5]\n",
      " [2 4 6]]\n",
      "La dimensión es:  (2, 3)\n"
     ]
    }
   ],
   "source": [
    "# Transposición de Matriz.\n",
    "matriz_t = matriz.T\n",
    "print(matriz_t)\n",
    "print(\"La dimensión es: \", matriz_t.shape)"
   ]
  },
  {
   "cell_type": "code",
   "execution_count": 0,
   "metadata": {
    "colab": {
     "base_uri": "https://localhost:8080/",
     "height": 68
    },
    "colab_type": "code",
    "id": "vSjjNemsOXPp",
    "outputId": "662e7c79-1e6c-4e65-e226-c3122cbe5d9d"
   },
   "outputs": [
    {
     "name": "stdout",
     "output_type": "stream",
     "text": [
      "[[1 2]\n",
      " [3 4]\n",
      " [5 6]]\n"
     ]
    }
   ],
   "source": [
    "# LA TRANSPUESTA DE UNA MATRIZ TRANSPUESTA , ES LA MATRIZ ORIGINAL\n",
    "matriz_t_t = matriz_t.T\n",
    "print(matriz_t_t)\n",
    "\n",
    "# Se obtiene la misma matriz original."
   ]
  },
  {
   "cell_type": "markdown",
   "metadata": {
    "colab_type": "text",
    "id": "jyChN8hDLCUE"
   },
   "source": [
    "# Transposición de tensores."
   ]
  },
  {
   "cell_type": "code",
   "execution_count": 28,
   "metadata": {
    "colab": {
     "base_uri": "https://localhost:8080/",
     "height": 221
    },
    "colab_type": "code",
    "id": "rnP6PlqnKdge",
    "outputId": "45c8ded5-32df-4dbf-b490-5f3c36acf64b"
   },
   "outputs": [
    {
     "name": "stdout",
     "output_type": "stream",
     "text": [
      "[[[255 255 255]\n",
      "  [128 128 128]\n",
      "  [ 80  80  80]]\n",
      "\n",
      " [[100 101 102]\n",
      "  [103 104 105]\n",
      "  [160 170 180]]\n",
      "\n",
      " [[190 200 210]\n",
      "  [220 230 204]\n",
      "  [255 227 238]]]\n"
     ]
    },
    {
     "data": {
      "text/plain": [
       "(3, 3, 3)"
      ]
     },
     "execution_count": 28,
     "metadata": {},
     "output_type": "execute_result"
    }
   ],
   "source": [
    "tensor = np.array([[[255,255,255],[128,128,128],[80,80,80]],\n",
    "    [[100,101,102],[103,104,105],[160,170,180]],\n",
    "    [[190,200,210], [220,230,204], [255,227,238]]])\n",
    "print(tensor)\n",
    "tensor.shape\n"
   ]
  },
  {
   "cell_type": "code",
   "execution_count": 29,
   "metadata": {
    "colab": {
     "base_uri": "https://localhost:8080/",
     "height": 221
    },
    "colab_type": "code",
    "id": "bwNxVKfrMpeX",
    "outputId": "e044490c-1a6b-4b8f-a05d-3d2c82955048"
   },
   "outputs": [
    {
     "name": "stdout",
     "output_type": "stream",
     "text": [
      "[[[255 100 190]\n",
      "  [128 103 220]\n",
      "  [ 80 160 255]]\n",
      "\n",
      " [[255 101 200]\n",
      "  [128 104 230]\n",
      "  [ 80 170 227]]\n",
      "\n",
      " [[255 102 210]\n",
      "  [128 105 204]\n",
      "  [ 80 180 238]]]\n"
     ]
    },
    {
     "data": {
      "text/plain": [
       "(3, 3, 3)"
      ]
     },
     "execution_count": 29,
     "metadata": {},
     "output_type": "execute_result"
    }
   ],
   "source": [
    "tensor_t = tensor.T\n",
    "print(tensor_t)\n",
    "tensor_t.shape"
   ]
  },
  {
   "cell_type": "code",
   "execution_count": 41,
   "metadata": {},
   "outputs": [
    {
     "data": {
      "text/plain": [
       "array([[[255, 128,  80],\n",
       "        [100, 103, 160],\n",
       "        [190, 220, 255]],\n",
       "\n",
       "       [[255, 128,  80],\n",
       "        [101, 104, 170],\n",
       "        [200, 230, 227]],\n",
       "\n",
       "       [[255, 128,  80],\n",
       "        [102, 105, 180],\n",
       "        [210, 204, 238]]])"
      ]
     },
     "execution_count": 41,
     "metadata": {},
     "output_type": "execute_result"
    }
   ],
   "source": [
    "tensor2 = np.transpose(tensor, axes=(2,0,1))\n",
    "tensor2"
   ]
  },
  {
   "cell_type": "markdown",
   "metadata": {
    "colab_type": "text",
    "id": "unzdLQ2FPzzJ"
   },
   "source": [
    "# Suma de matrices.\n",
    "\n",
    "* La suma de matrices, matematicamente se define cuando se tienen las mismas dimensiones.\n",
    "* Cuando suma y resta matrices , sus dimensiones deben ser iguales.\n",
    "\n",
    "![texto alternativo](https://www.ditutor.com/matrices/images/19_1.gif)"
   ]
  },
  {
   "cell_type": "code",
   "execution_count": 0,
   "metadata": {
    "colab": {
     "base_uri": "https://localhost:8080/",
     "height": 221
    },
    "colab_type": "code",
    "id": "D9h8PjtXLBxK",
    "outputId": "5f5fa010-377f-4198-e91b-b99f85ed8c7b"
   },
   "outputs": [
    {
     "name": "stdout",
     "output_type": "stream",
     "text": [
      "la dimension de A es:  (3, 3)\n",
      "la dimension de B es:  (3, 3)\n",
      "\n",
      "\n",
      "la resta de ambos es: \n",
      " [[ 1  0  0]\n",
      " [ 2 -2 -1]\n",
      " [ 4  0  1]]\n",
      "la suma de ambos es: \n",
      " [[3 0 2]\n",
      " [4 2 1]\n",
      " [6 2 1]]\n"
     ]
    }
   ],
   "source": [
    "# Suma de 2 matrices con igual dimensión.\n",
    "import numpy as np\n",
    "A = np.array([[2,0,1],[3,0,0],[5,1,1]])\n",
    "B = np.array([[1,0,1],[1,2,1],[1,1,0]])\n",
    "C = A + B\n",
    "D = A - B \n",
    "\n",
    "print('la dimension de A es: ', A.shape)\n",
    "print('la dimension de B es: ', B.shape)\n",
    "print(\"\\n\")\n",
    "print('la resta de ambos es:',\"\\n\",D)\n",
    "print('la suma de ambos es:',\"\\n\",C)\n"
   ]
  },
  {
   "cell_type": "code",
   "execution_count": 0,
   "metadata": {
    "colab": {
     "base_uri": "https://localhost:8080/",
     "height": 68
    },
    "colab_type": "code",
    "id": "m93bXlLHYlsw",
    "outputId": "f8edb9fd-b035-4604-ce46-682b80232095"
   },
   "outputs": [
    {
     "name": "stdout",
     "output_type": "stream",
     "text": [
      "[[ 6.679  7.679]\n",
      " [ 8.679  9.679]\n",
      " [10.679 11.679]]\n"
     ]
    }
   ],
   "source": [
    "# suma de matriz + Escalar.\n",
    "import numpy as np\n",
    "\n",
    "escalar = 5.679\n",
    "matriz = np.array([[1,2],[3,4],[5,6]])\n",
    "\n",
    "D = matriz + escalar\n",
    "\n",
    "print(D)"
   ]
  },
  {
   "cell_type": "code",
   "execution_count": 0,
   "metadata": {
    "colab": {
     "base_uri": "https://localhost:8080/",
     "height": 204
    },
    "colab_type": "code",
    "id": "gOl_ekpGaQYA",
    "outputId": "45576662-e129-4f36-cc1b-1c690db1ab43"
   },
   "outputs": [
    {
     "name": "stdout",
     "output_type": "stream",
     "text": [
      "[[1 2 3 4 5]\n",
      " [3 4 7 8 9]\n",
      " [5 6 1 0 2]\n",
      " [7 8 4 3 2]\n",
      " [5 2 3 4 1]]\n",
      "la matriz transpuesta es: \n",
      "[[1 3 5 7 5]\n",
      " [2 4 6 8 2]\n",
      " [3 7 1 4 3]\n",
      " [4 8 0 3 4]\n",
      " [5 9 2 2 1]]\n"
     ]
    }
   ],
   "source": [
    "# EJERCICIO 1:  Cree una matriz de 5 x 5 y sumesela a su transpuesta.\n",
    "# Su codigo aquí.\n",
    "import numpy as np\n",
    "\n",
    "# Cree una matriz de 5 x 5\n",
    "matriz3 = np.array([[1,2,3,4,5],[3,4,7,8,9],[5,6,1,0,2],[7,8,4,3,2],[5,2,3,4,1]])\n",
    "print(matriz3)\n",
    "matriz3.shape\n",
    "\n",
    "matriz3_t = matriz3.T\n",
    "print('la matriz transpuesta es: ')\n",
    "print(matriz3.T)"
   ]
  },
  {
   "cell_type": "code",
   "execution_count": 0,
   "metadata": {
    "colab": {
     "base_uri": "https://localhost:8080/",
     "height": 102
    },
    "colab_type": "code",
    "id": "c0ErbK70kkmG",
    "outputId": "dd80d680-60cd-4bf5-e6d0-c028fc06f748"
   },
   "outputs": [
    {
     "name": "stdout",
     "output_type": "stream",
     "text": [
      "[[ 2  5  8 11 10]\n",
      " [ 5  8 13 16 11]\n",
      " [ 8 13  2  4  5]\n",
      " [11 16  4  6  6]\n",
      " [10 11  5  6  2]]\n"
     ]
    }
   ],
   "source": [
    "# suma la matriz por su transpuesta.\n",
    "\n",
    "E = matriz3 + matriz3_t\n",
    "print(E)"
   ]
  },
  {
   "cell_type": "markdown",
   "metadata": {
    "colab_type": "text",
    "id": "XqrsJ6bzlbZw"
   },
   "source": [
    "# Broadcasting: Suma de matrices de diferente dimensiòn.\n",
    "\n",
    "* El término difusión (broadcasting) describe cómo numpy trata las matrices con diferentes dimensiones. \n",
    "\n",
    "* Las partes de la operación broadcasting son: \n",
    "- La matriz pequeña\n",
    "- La matriz grande.\n",
    "\n",
    "* ¿Como opera?: La matriz más pequeña se repite ( o “transmite”,) a través de la matriz más grande para que tengan las mismas dimensiones.\n",
    "\n",
    "* La matriz más pequeña se repite.\n",
    "\n"
   ]
  },
  {
   "cell_type": "markdown",
   "metadata": {
    "colab_type": "text",
    "id": "CB1vPFmeSlUP"
   },
   "source": [
    "### Practica Broadcasting"
   ]
  },
  {
   "cell_type": "code",
   "execution_count": 42,
   "metadata": {
    "colab": {},
    "colab_type": "code",
    "id": "f4Wjon9Jlimc"
   },
   "outputs": [],
   "source": [
    "import numpy as np"
   ]
  },
  {
   "cell_type": "code",
   "execution_count": 61,
   "metadata": {
    "colab": {},
    "colab_type": "code",
    "id": "m4V3kGnPjx5P"
   },
   "outputs": [],
   "source": [
    "# Analisis 1 : matriz + vector de diferentes dimensiones\n",
    "escalar = 5.679\n",
    "vector = np.array([3,4,5,])             # vector es fila de     3 elementos.\n",
    "vector = np.reshape(vector, (vector.shape[0],1))\n",
    "matriz = np.array([[1,2],[3,4],[5,6]])  # matriz tiene filas de 2 elementos.\n",
    " \n",
    "A = vector + matriz"
   ]
  },
  {
   "cell_type": "code",
   "execution_count": 62,
   "metadata": {},
   "outputs": [
    {
     "data": {
      "text/plain": [
       "array([[ 4,  5],\n",
       "       [ 7,  8],\n",
       "       [10, 11]])"
      ]
     },
     "execution_count": 62,
     "metadata": {},
     "output_type": "execute_result"
    }
   ],
   "source": [
    "A"
   ]
  },
  {
   "cell_type": "markdown",
   "metadata": {
    "colab_type": "text",
    "id": "QrQrx8KPcrF6"
   },
   "source": [
    "* **Conclusion matriz + vector :** '''No es posible, tienen diferentes dimensiones (shapes)\n",
    "solucion: transponer la matrix para cambiar sus dimensiones'''"
   ]
  },
  {
   "cell_type": "code",
   "execution_count": 63,
   "metadata": {
    "colab": {
     "base_uri": "https://localhost:8080/",
     "height": 173
    },
    "colab_type": "code",
    "id": "iFserpVje4EC",
    "outputId": "ff97a92e-5b49-42cc-a3e5-258f157ee452"
   },
   "outputs": [
    {
     "name": "stdout",
     "output_type": "stream",
     "text": [
      "la matriz es original es:\n",
      "[[1 2]\n",
      " [3 4]\n",
      " [5 6]]\n",
      "la matriz Transpuesta es:\n",
      "[[1 3 5]\n",
      " [2 4 6]]\n",
      "el vector es :\n",
      "[[3]\n",
      " [4]\n",
      " [5]]\n"
     ]
    }
   ],
   "source": [
    "# Validar dimensiones de matriz.t y Vector\n",
    "print('la matriz es original es:') \n",
    "print(matriz)\n",
    "\n",
    "\n",
    "print('la matriz Transpuesta es:')\n",
    "print(matriz.T)\n",
    "print('el vector es :')\n",
    "print(vector)\n"
   ]
  },
  {
   "cell_type": "code",
   "execution_count": 64,
   "metadata": {
    "colab": {
     "base_uri": "https://localhost:8080/",
     "height": 52
    },
    "colab_type": "code",
    "id": "waascr2fYDOt",
    "outputId": "e3aa8bfb-e481-43f3-b64b-bfedb9a1cbe9"
   },
   "outputs": [
    {
     "ename": "ValueError",
     "evalue": "operands could not be broadcast together with shapes (2,3) (3,1) ",
     "output_type": "error",
     "traceback": [
      "\u001b[0;31m---------------------------------------------------------------------------\u001b[0m",
      "\u001b[0;31mValueError\u001b[0m                                Traceback (most recent call last)",
      "\u001b[0;32m<ipython-input-64-2b8ead43e507>\u001b[0m in \u001b[0;36m<module>\u001b[0;34m\u001b[0m\n\u001b[1;32m      1\u001b[0m \u001b[0;31m# Creaciòn de Broadcasting.\u001b[0m\u001b[0;34m\u001b[0m\u001b[0;34m\u001b[0m\u001b[0;34m\u001b[0m\u001b[0m\n\u001b[0;32m----> 2\u001b[0;31m \u001b[0mA\u001b[0m \u001b[0;34m=\u001b[0m \u001b[0mmatriz\u001b[0m\u001b[0;34m.\u001b[0m\u001b[0mT\u001b[0m \u001b[0;34m+\u001b[0m \u001b[0mvector\u001b[0m\u001b[0;34m\u001b[0m\u001b[0;34m\u001b[0m\u001b[0m\n\u001b[0m\u001b[1;32m      3\u001b[0m \u001b[0mprint\u001b[0m\u001b[0;34m(\u001b[0m\u001b[0mA\u001b[0m\u001b[0;34m)\u001b[0m\u001b[0;34m\u001b[0m\u001b[0;34m\u001b[0m\u001b[0m\n",
      "\u001b[0;31mValueError\u001b[0m: operands could not be broadcast together with shapes (2,3) (3,1) "
     ]
    }
   ],
   "source": [
    "# Creaciòn de Broadcasting.\n",
    "A = matriz.T + vector \n",
    "print(A)\n"
   ]
  },
  {
   "cell_type": "code",
   "execution_count": 65,
   "metadata": {},
   "outputs": [
    {
     "data": {
      "text/plain": [
       "array([[ 4,  7, 10],\n",
       "       [ 5,  8, 11]])"
      ]
     },
     "execution_count": 65,
     "metadata": {},
     "output_type": "execute_result"
    }
   ],
   "source": [
    "A = A.T\n",
    "A"
   ]
  },
  {
   "cell_type": "markdown",
   "metadata": {
    "colab_type": "text",
    "id": "jfxgeg5odG83"
   },
   "source": [
    "\n",
    "* **Conclusiòn Broadcasting** \n",
    "* Broadcasting es extender (duplicar) el elemento de menor dimensiòn hasta el de mayor dimensiòn.\n",
    "* tanto, matriz.T como vector tienen filas de 2 elementos.![texto alternativo]\n",
    "* la matriz mas pequeña (vector) se repitió."
   ]
  },
  {
   "cell_type": "code",
   "execution_count": 0,
   "metadata": {
    "colab": {
     "base_uri": "https://localhost:8080/",
     "height": 69
    },
    "colab_type": "code",
    "id": "5m2fBJ-OdMd4",
    "outputId": "7d395d65-97f4-4961-cfb8-780c8ea816b6"
   },
   "outputs": [
    {
     "name": "stdout",
     "output_type": "stream",
     "text": [
      "[[43 44]\n",
      " [45 46]\n",
      " [47 48]]\n"
     ]
    }
   ],
   "source": [
    "# Broadcasting con la misma dimensiòn.\n",
    "C = matriz + 42\n",
    "print(C)\n"
   ]
  },
  {
   "cell_type": "code",
   "execution_count": 0,
   "metadata": {
    "colab": {
     "base_uri": "https://localhost:8080/",
     "height": 104
    },
    "colab_type": "code",
    "id": "uyjvIdj3-NMh",
    "outputId": "1a14058f-4c8e-474b-c2ad-6101b8d4f55b"
   },
   "outputs": [
    {
     "name": "stdout",
     "output_type": "stream",
     "text": [
      "[[11 22 33 44 55]\n",
      " [13 24 37 48 59]\n",
      " [15 26 31 40 52]\n",
      " [17 28 34 43 52]\n",
      " [15 22 33 44 51]]\n"
     ]
    }
   ],
   "source": [
    "# creacion de vector 5 X 5\n",
    "vector4 = ([10,20,30,40,50])\n",
    "matriz4 = np.array([[1,2,3,4,5],[3,4,7,8,9],[5,6,1,0,2],[7,8,4,3,2],[5,2,3,4,1]])\n",
    "\n",
    "D = vector4 + matriz4\n",
    "print(D)"
   ]
  },
  {
   "cell_type": "markdown",
   "metadata": {
    "colab_type": "text",
    "id": "NBYY8aF83sYI"
   },
   "source": [
    "# Parte 3: Producto Interno o Producto Punto (dot producto) entre dos matrices.\n",
    "\n",
    "**Producto punto**: \n",
    "* Producto Punto es una multiplicación a todos los elementos de la matriz.\n",
    "\n",
    "$$ H =\n",
    "\\left(\\begin{array}{cc} \n",
    "1 & 2\\\\\n",
    "3 & 4\\\\\n",
    "\\end{array}\\right) I =\n",
    "\\left(\\begin{array}{cc} \n",
    "11 & 12 \\\\\n",
    "13 & 14\\\\\n",
    "\\end{array}\\right)\n",
    "$$ \n"
   ]
  },
  {
   "cell_type": "code",
   "execution_count": 0,
   "metadata": {
    "colab": {
     "base_uri": "https://localhost:8080/",
     "height": 85
    },
    "colab_type": "code",
    "id": "dcRzjmf9DQGk",
    "outputId": "b9fdb113-ec71-42df-e6c7-4f687ce22168"
   },
   "outputs": [
    {
     "name": "stdout",
     "output_type": "stream",
     "text": [
      "el producto interno es: \n",
      " [[37 40]\n",
      " [85 92]] \n",
      "\n"
     ]
    }
   ],
   "source": [
    "import numpy as np\n",
    "\n",
    "M1 = np.array([[1,2],[3,4]]) \n",
    "M2 = np.array([[11,12],[13,14]]) \n",
    "\n",
    "M1_dot = M1.dot(M2)\n",
    "\n",
    "print('el producto interno es:',\"\\n\", M1_dot ,\"\\n\")\n"
   ]
  },
  {
   "cell_type": "markdown",
   "metadata": {
    "colab_type": "text",
    "id": "bxBBYGkTVslI"
   },
   "source": [
    "# Determinante de una matriz.\n",
    "\n",
    "Es una multiplcacion \n",
    "\n",
    "\n",
    "\n"
   ]
  }
 ],
 "metadata": {
  "colab": {
   "authorship_tag": "ABX9TyN/6oK1EIL9ytuICZ8nGZ9M",
   "collapsed_sections": [],
   "include_colab_link": true,
   "name": "2. Lineal Algebra with python - Basics Operations.ipynb",
   "provenance": []
  },
  "kernelspec": {
   "display_name": "Python 3",
   "language": "python",
   "name": "python3"
  },
  "language_info": {
   "codemirror_mode": {
    "name": "ipython",
    "version": 3
   },
   "file_extension": ".py",
   "mimetype": "text/x-python",
   "name": "python",
   "nbconvert_exporter": "python",
   "pygments_lexer": "ipython3",
   "version": "3.7.1"
  }
 },
 "nbformat": 4,
 "nbformat_minor": 1
}
